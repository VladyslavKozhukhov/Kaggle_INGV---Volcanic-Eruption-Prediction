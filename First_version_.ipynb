{
  "nbformat": 4,
  "nbformat_minor": 0,
  "metadata": {
    "colab": {
      "name": "Копия блокнота \"Download_dataSet.ipynb\"",
      "provenance": [],
      "collapsed_sections": [],
      "authorship_tag": "ABX9TyPeUS5rSsbb5QOgEY+Xc9jb",
      "include_colab_link": true
    },
    "kernelspec": {
      "name": "python3",
      "display_name": "Python 3"
    }
  },
  "cells": [
    {
      "cell_type": "markdown",
      "metadata": {
        "id": "view-in-github",
        "colab_type": "text"
      },
      "source": [
        "<a href=\"https://colab.research.google.com/github/VladyslavKozhukhov/Kaggle_INGV---Volcanic-Eruption-Prediction/blob/main/First_version.ipynb\" target=\"_parent\"><img src=\"https://colab.research.google.com/assets/colab-badge.svg\" alt=\"Open In Colab\"/></a>"
      ]
    },
    {
      "cell_type": "markdown",
      "metadata": {
        "id": "yZtSAvq3piKV"
      },
      "source": [
        "Data overview"
      ]
    },
    {
      "cell_type": "code",
      "metadata": {
        "id": "nXwrZoxopoa5"
      },
      "source": [
        "import numpy as np\n",
        "import pandas as pd\n",
        "import scipy\n",
        "import scipy.signal\n",
        "import datetime\n",
        "import matplotlib\n",
        "import matplotlib.pyplot as plt\n"
      ],
      "execution_count": 45,
      "outputs": []
    },
    {
      "cell_type": "code",
      "metadata": {
        "id": "GlG8l-RbqFGP"
      },
      "source": [
        "#Defines\n",
        "train_csv_path = \"./train.csv\"\n",
        "sample_csv_path = \"./sample_submission.csv\"\n",
        "single_segment = \"./1003520023.csv\""
      ],
      "execution_count": 47,
      "outputs": []
    },
    {
      "cell_type": "code",
      "metadata": {
        "id": "_a2y5I6Up8r1"
      },
      "source": [
        "train = pd.read_csv(train_csv_path)\n",
        "sample_submission = pd.read_csv(sample_csv_path)\n"
      ],
      "execution_count": 33,
      "outputs": []
    },
    {
      "cell_type": "code",
      "metadata": {
        "id": "pDI47nZ4zzo-"
      },
      "source": [
        "# Convert 'time_to_eruption'to hours:minutes:seconds (Just for reference)\n",
        "#train['days_hours_minutes_seconds'] = (train['time_to_eruption']\n",
        "             #     .apply(lambda x:datetime.timedelta(seconds = x/100))) 100???? why"
      ],
      "execution_count": 41,
      "outputs": []
    },
    {
      "cell_type": "code",
      "metadata": {
        "id": "GBojbYY5s6TZ"
      },
      "source": [
        "train"
      ],
      "execution_count": null,
      "outputs": []
    },
    {
      "cell_type": "code",
      "metadata": {
        "id": "QUYLb9XyrR9y"
      },
      "source": [
        "train['time_to_eruption'].describe()\n"
      ],
      "execution_count": null,
      "outputs": []
    },
    {
      "cell_type": "code",
      "metadata": {
        "id": "qmmq0k7WreXR"
      },
      "source": [
        "print('Median:', train['time_to_eruption'].median())\n",
        "print('Skew:', train['time_to_eruption'].skew()) #symetric?\n",
        "print('Std:', train['time_to_eruption'].std())\n",
        "print('Kurtosis:', train['time_to_eruption'].kurtosis()) #heavy-tailed?\n",
        "print('Mean:', train['time_to_eruption'].mean())"
      ],
      "execution_count": null,
      "outputs": []
    },
    {
      "cell_type": "code",
      "metadata": {
        "id": "O3_NWdsCs-mB"
      },
      "source": [
        "sample_submission"
      ],
      "execution_count": null,
      "outputs": []
    },
    {
      "cell_type": "markdown",
      "metadata": {
        "id": "tlU5gfEG1f37"
      },
      "source": [
        "Look on single segment\n"
      ]
    },
    {
      "cell_type": "code",
      "metadata": {
        "colab": {
          "base_uri": "https://localhost:8080/",
          "height": 571
        },
        "id": "8lQQZwMT1lsV",
        "outputId": "bf1f6e7b-8bb2-4b77-bf73-90626a03d0ea"
      },
      "source": [
        "segment = pd.read_csv(single_segment,dtype =\"int16\")\n",
        "segment.describe()"
      ],
      "execution_count": 50,
      "outputs": [
        {
          "output_type": "execute_result",
          "data": {
            "text/html": [
              "<div>\n",
              "<style scoped>\n",
              "    .dataframe tbody tr th:only-of-type {\n",
              "        vertical-align: middle;\n",
              "    }\n",
              "\n",
              "    .dataframe tbody tr th {\n",
              "        vertical-align: top;\n",
              "    }\n",
              "\n",
              "    .dataframe thead th {\n",
              "        text-align: right;\n",
              "    }\n",
              "</style>\n",
              "<table border=\"1\" class=\"dataframe\">\n",
              "  <thead>\n",
              "    <tr style=\"text-align: right;\">\n",
              "      <th></th>\n",
              "      <th>sensor_1</th>\n",
              "      <th>sensor_2</th>\n",
              "      <th>sensor_3</th>\n",
              "      <th>sensor_4</th>\n",
              "      <th>sensor_5</th>\n",
              "      <th>sensor_6</th>\n",
              "      <th>sensor_7</th>\n",
              "      <th>sensor_8</th>\n",
              "      <th>sensor_9</th>\n",
              "      <th>sensor_10</th>\n",
              "    </tr>\n",
              "  </thead>\n",
              "  <tbody>\n",
              "    <tr>\n",
              "      <th>count</th>\n",
              "      <td>60001.000000</td>\n",
              "      <td>60001.000000</td>\n",
              "      <td>60001.000000</td>\n",
              "      <td>60001.000000</td>\n",
              "      <td>60001.000000</td>\n",
              "      <td>60001.000000</td>\n",
              "      <td>60001.000000</td>\n",
              "      <td>60001.000000</td>\n",
              "      <td>60001.000000</td>\n",
              "      <td>60001.000000</td>\n",
              "    </tr>\n",
              "    <tr>\n",
              "      <th>mean</th>\n",
              "      <td>-2.655972</td>\n",
              "      <td>2.833653</td>\n",
              "      <td>-2.042849</td>\n",
              "      <td>4.328478</td>\n",
              "      <td>-1.122381</td>\n",
              "      <td>3.244479</td>\n",
              "      <td>-0.003517</td>\n",
              "      <td>0.566857</td>\n",
              "      <td>-3.991817</td>\n",
              "      <td>-6.967667</td>\n",
              "    </tr>\n",
              "    <tr>\n",
              "      <th>std</th>\n",
              "      <td>352.515183</td>\n",
              "      <td>505.483617</td>\n",
              "      <td>1688.145155</td>\n",
              "      <td>373.274112</td>\n",
              "      <td>203.377615</td>\n",
              "      <td>613.783446</td>\n",
              "      <td>606.808575</td>\n",
              "      <td>672.314475</td>\n",
              "      <td>330.512391</td>\n",
              "      <td>758.130409</td>\n",
              "    </tr>\n",
              "    <tr>\n",
              "      <th>min</th>\n",
              "      <td>-1698.000000</td>\n",
              "      <td>-6830.000000</td>\n",
              "      <td>-32767.000000</td>\n",
              "      <td>-1747.000000</td>\n",
              "      <td>-1229.000000</td>\n",
              "      <td>-2592.000000</td>\n",
              "      <td>-2390.000000</td>\n",
              "      <td>-2529.000000</td>\n",
              "      <td>-2022.000000</td>\n",
              "      <td>-2815.000000</td>\n",
              "    </tr>\n",
              "    <tr>\n",
              "      <th>25%</th>\n",
              "      <td>-236.000000</td>\n",
              "      <td>-286.000000</td>\n",
              "      <td>-339.000000</td>\n",
              "      <td>-242.000000</td>\n",
              "      <td>-131.000000</td>\n",
              "      <td>-419.000000</td>\n",
              "      <td>-401.000000</td>\n",
              "      <td>-454.000000</td>\n",
              "      <td>-220.000000</td>\n",
              "      <td>-502.000000</td>\n",
              "    </tr>\n",
              "    <tr>\n",
              "      <th>50%</th>\n",
              "      <td>0.000000</td>\n",
              "      <td>0.000000</td>\n",
              "      <td>0.000000</td>\n",
              "      <td>0.000000</td>\n",
              "      <td>0.000000</td>\n",
              "      <td>0.000000</td>\n",
              "      <td>0.000000</td>\n",
              "      <td>0.000000</td>\n",
              "      <td>0.000000</td>\n",
              "      <td>0.000000</td>\n",
              "    </tr>\n",
              "    <tr>\n",
              "      <th>75%</th>\n",
              "      <td>235.000000</td>\n",
              "      <td>294.000000</td>\n",
              "      <td>332.000000</td>\n",
              "      <td>249.000000</td>\n",
              "      <td>128.000000</td>\n",
              "      <td>427.000000</td>\n",
              "      <td>395.000000</td>\n",
              "      <td>461.000000</td>\n",
              "      <td>210.000000</td>\n",
              "      <td>492.000000</td>\n",
              "    </tr>\n",
              "    <tr>\n",
              "      <th>max</th>\n",
              "      <td>1407.000000</td>\n",
              "      <td>6472.000000</td>\n",
              "      <td>32767.000000</td>\n",
              "      <td>1955.000000</td>\n",
              "      <td>1354.000000</td>\n",
              "      <td>2101.000000</td>\n",
              "      <td>3051.000000</td>\n",
              "      <td>3144.000000</td>\n",
              "      <td>1306.000000</td>\n",
              "      <td>4018.000000</td>\n",
              "    </tr>\n",
              "  </tbody>\n",
              "</table>\n",
              "</div>"
            ],
            "text/plain": [
              "           sensor_1      sensor_2  ...      sensor_9     sensor_10\n",
              "count  60001.000000  60001.000000  ...  60001.000000  60001.000000\n",
              "mean      -2.655972      2.833653  ...     -3.991817     -6.967667\n",
              "std      352.515183    505.483617  ...    330.512391    758.130409\n",
              "min    -1698.000000  -6830.000000  ...  -2022.000000  -2815.000000\n",
              "25%     -236.000000   -286.000000  ...   -220.000000   -502.000000\n",
              "50%        0.000000      0.000000  ...      0.000000      0.000000\n",
              "75%      235.000000    294.000000  ...    210.000000    492.000000\n",
              "max     1407.000000   6472.000000  ...   1306.000000   4018.000000\n",
              "\n",
              "[8 rows x 10 columns]"
            ]
          },
          "metadata": {
            "tags": []
          },
          "execution_count": 49
        },
        {
          "output_type": "execute_result",
          "data": {
            "text/html": [
              "<div>\n",
              "<style scoped>\n",
              "    .dataframe tbody tr th:only-of-type {\n",
              "        vertical-align: middle;\n",
              "    }\n",
              "\n",
              "    .dataframe tbody tr th {\n",
              "        vertical-align: top;\n",
              "    }\n",
              "\n",
              "    .dataframe thead th {\n",
              "        text-align: right;\n",
              "    }\n",
              "</style>\n",
              "<table border=\"1\" class=\"dataframe\">\n",
              "  <thead>\n",
              "    <tr style=\"text-align: right;\">\n",
              "      <th></th>\n",
              "      <th>sensor_1</th>\n",
              "      <th>sensor_2</th>\n",
              "      <th>sensor_3</th>\n",
              "      <th>sensor_4</th>\n",
              "      <th>sensor_5</th>\n",
              "      <th>sensor_6</th>\n",
              "      <th>sensor_7</th>\n",
              "      <th>sensor_8</th>\n",
              "      <th>sensor_9</th>\n",
              "      <th>sensor_10</th>\n",
              "    </tr>\n",
              "  </thead>\n",
              "  <tbody>\n",
              "    <tr>\n",
              "      <th>count</th>\n",
              "      <td>60001.000000</td>\n",
              "      <td>60001.000000</td>\n",
              "      <td>60001.000000</td>\n",
              "      <td>60001.000000</td>\n",
              "      <td>60001.000000</td>\n",
              "      <td>60001.000000</td>\n",
              "      <td>60001.000000</td>\n",
              "      <td>60001.000000</td>\n",
              "      <td>60001.000000</td>\n",
              "      <td>60001.000000</td>\n",
              "    </tr>\n",
              "    <tr>\n",
              "      <th>mean</th>\n",
              "      <td>-2.655972</td>\n",
              "      <td>2.833653</td>\n",
              "      <td>-2.042849</td>\n",
              "      <td>4.328478</td>\n",
              "      <td>-1.122381</td>\n",
              "      <td>3.244479</td>\n",
              "      <td>-0.003517</td>\n",
              "      <td>0.566857</td>\n",
              "      <td>-3.991817</td>\n",
              "      <td>-6.967667</td>\n",
              "    </tr>\n",
              "    <tr>\n",
              "      <th>std</th>\n",
              "      <td>352.515183</td>\n",
              "      <td>505.483617</td>\n",
              "      <td>1688.145155</td>\n",
              "      <td>373.274112</td>\n",
              "      <td>203.377615</td>\n",
              "      <td>613.783446</td>\n",
              "      <td>606.808575</td>\n",
              "      <td>672.314475</td>\n",
              "      <td>330.512391</td>\n",
              "      <td>758.130409</td>\n",
              "    </tr>\n",
              "    <tr>\n",
              "      <th>min</th>\n",
              "      <td>-1698.000000</td>\n",
              "      <td>-6830.000000</td>\n",
              "      <td>-32767.000000</td>\n",
              "      <td>-1747.000000</td>\n",
              "      <td>-1229.000000</td>\n",
              "      <td>-2592.000000</td>\n",
              "      <td>-2390.000000</td>\n",
              "      <td>-2529.000000</td>\n",
              "      <td>-2022.000000</td>\n",
              "      <td>-2815.000000</td>\n",
              "    </tr>\n",
              "    <tr>\n",
              "      <th>25%</th>\n",
              "      <td>-236.000000</td>\n",
              "      <td>-286.000000</td>\n",
              "      <td>-339.000000</td>\n",
              "      <td>-242.000000</td>\n",
              "      <td>-131.000000</td>\n",
              "      <td>-419.000000</td>\n",
              "      <td>-401.000000</td>\n",
              "      <td>-454.000000</td>\n",
              "      <td>-220.000000</td>\n",
              "      <td>-502.000000</td>\n",
              "    </tr>\n",
              "    <tr>\n",
              "      <th>50%</th>\n",
              "      <td>0.000000</td>\n",
              "      <td>0.000000</td>\n",
              "      <td>0.000000</td>\n",
              "      <td>0.000000</td>\n",
              "      <td>0.000000</td>\n",
              "      <td>0.000000</td>\n",
              "      <td>0.000000</td>\n",
              "      <td>0.000000</td>\n",
              "      <td>0.000000</td>\n",
              "      <td>0.000000</td>\n",
              "    </tr>\n",
              "    <tr>\n",
              "      <th>75%</th>\n",
              "      <td>235.000000</td>\n",
              "      <td>294.000000</td>\n",
              "      <td>332.000000</td>\n",
              "      <td>249.000000</td>\n",
              "      <td>128.000000</td>\n",
              "      <td>427.000000</td>\n",
              "      <td>395.000000</td>\n",
              "      <td>461.000000</td>\n",
              "      <td>210.000000</td>\n",
              "      <td>492.000000</td>\n",
              "    </tr>\n",
              "    <tr>\n",
              "      <th>max</th>\n",
              "      <td>1407.000000</td>\n",
              "      <td>6472.000000</td>\n",
              "      <td>32767.000000</td>\n",
              "      <td>1955.000000</td>\n",
              "      <td>1354.000000</td>\n",
              "      <td>2101.000000</td>\n",
              "      <td>3051.000000</td>\n",
              "      <td>3144.000000</td>\n",
              "      <td>1306.000000</td>\n",
              "      <td>4018.000000</td>\n",
              "    </tr>\n",
              "  </tbody>\n",
              "</table>\n",
              "</div>"
            ],
            "text/plain": [
              "           sensor_1      sensor_2  ...      sensor_9     sensor_10\n",
              "count  60001.000000  60001.000000  ...  60001.000000  60001.000000\n",
              "mean      -2.655972      2.833653  ...     -3.991817     -6.967667\n",
              "std      352.515183    505.483617  ...    330.512391    758.130409\n",
              "min    -1698.000000  -6830.000000  ...  -2022.000000  -2815.000000\n",
              "25%     -236.000000   -286.000000  ...   -220.000000   -502.000000\n",
              "50%        0.000000      0.000000  ...      0.000000      0.000000\n",
              "75%      235.000000    294.000000  ...    210.000000    492.000000\n",
              "max     1407.000000   6472.000000  ...   1306.000000   4018.000000\n",
              "\n",
              "[8 rows x 10 columns]"
            ]
          },
          "metadata": {
            "tags": []
          },
          "execution_count": 50
        }
      ]
    }
  ]
}
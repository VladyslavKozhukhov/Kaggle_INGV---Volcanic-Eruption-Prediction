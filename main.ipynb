{
  "nbformat": 4,
  "nbformat_minor": 0,
  "metadata": {
    "colab": {
      "name": "Копия блокнота \"Download_dataSet.ipynb\"",
      "provenance": [],
      "collapsed_sections": []
    },
    "kernelspec": {
      "name": "python3",
      "display_name": "Python 3"
    }
  },
  "cells": [
    {
      "cell_type": "markdown",
      "metadata": {
        "id": "yZtSAvq3piKV"
      },
      "source": [
        "Data overview"
      ]
    },
    {
      "cell_type": "code",
      "metadata": {
        "id": "nXwrZoxopoa5"
      },
      "source": [
        "import numpy as np\n",
        "import pandas as pd\n",
        "import scipy\n",
        "import scipy.signal\n",
        "import datetime\n",
        "import matplotlib\n",
        "import matplotlib.pyplot as plt\n",
        "import tqdm\n",
        "import os\n",
        "import glob\n",
        "from pathlib import Path\n"
      ],
      "execution_count": 65,
      "outputs": []
    },
    {
      "cell_type": "code",
      "metadata": {
        "id": "GlG8l-RbqFGP"
      },
      "source": [
        "#Defines\n",
        "train_csv_path = \"./train.csv\"\n",
        "sample_csv_path = \"./sample_submission.csv\"\n",
        "single_segment = \"./1003520023.csv\"\n",
        "train_data_path = \"\"\n",
        "test_data_path = \"\"\n"
      ],
      "execution_count": 92,
      "outputs": []
    },
    {
      "cell_type": "code",
      "metadata": {
        "id": "_a2y5I6Up8r1"
      },
      "source": [
        "train = pd.read_csv(train_csv_path)\n",
        "sample_submission = pd.read_csv(sample_csv_path)\n"
      ],
      "execution_count": 33,
      "outputs": []
    },
    {
      "cell_type": "code",
      "metadata": {
        "id": "pDI47nZ4zzo-"
      },
      "source": [
        "# Convert 'time_to_eruption'to hours:minutes:seconds (Just for reference)\n",
        "#train['days_hours_minutes_seconds'] = (train['time_to_eruption']\n",
        "             #     .apply(lambda x:datetime.timedelta(seconds = x/100))) 100???? why"
      ],
      "execution_count": 41,
      "outputs": []
    },
    {
      "cell_type": "code",
      "metadata": {
        "id": "GBojbYY5s6TZ"
      },
      "source": [
        "train"
      ],
      "execution_count": null,
      "outputs": []
    },
    {
      "cell_type": "code",
      "metadata": {
        "id": "QUYLb9XyrR9y"
      },
      "source": [
        "train['time_to_eruption'].describe()\n"
      ],
      "execution_count": null,
      "outputs": []
    },
    {
      "cell_type": "code",
      "metadata": {
        "id": "qmmq0k7WreXR"
      },
      "source": [
        "print('Median:', train['time_to_eruption'].median())\n",
        "print('Skew:', train['time_to_eruption'].skew()) #symetric?\n",
        "print('Std:', train['time_to_eruption'].std())\n",
        "print('Kurtosis:', train['time_to_eruption'].kurtosis()) #heavy-tailed?\n",
        "print('Mean:', train['time_to_eruption'].mean())"
      ],
      "execution_count": null,
      "outputs": []
    },
    {
      "cell_type": "code",
      "metadata": {
        "colab": {
          "base_uri": "https://localhost:8080/",
          "height": 402
        },
        "id": "O3_NWdsCs-mB",
        "outputId": "ec967df8-4bb6-498b-8582-28e163899947"
      },
      "source": [
        "sample_submission"
      ],
      "execution_count": 111,
      "outputs": [
        {
          "output_type": "execute_result",
          "data": {
            "text/html": [
              "<div>\n",
              "<style scoped>\n",
              "    .dataframe tbody tr th:only-of-type {\n",
              "        vertical-align: middle;\n",
              "    }\n",
              "\n",
              "    .dataframe tbody tr th {\n",
              "        vertical-align: top;\n",
              "    }\n",
              "\n",
              "    .dataframe thead th {\n",
              "        text-align: right;\n",
              "    }\n",
              "</style>\n",
              "<table border=\"1\" class=\"dataframe\">\n",
              "  <thead>\n",
              "    <tr style=\"text-align: right;\">\n",
              "      <th></th>\n",
              "      <th>segment_id</th>\n",
              "      <th>time_to_eruption</th>\n",
              "    </tr>\n",
              "  </thead>\n",
              "  <tbody>\n",
              "    <tr>\n",
              "      <th>0</th>\n",
              "      <td>1000213997</td>\n",
              "      <td>0</td>\n",
              "    </tr>\n",
              "    <tr>\n",
              "      <th>1</th>\n",
              "      <td>100023368</td>\n",
              "      <td>0</td>\n",
              "    </tr>\n",
              "    <tr>\n",
              "      <th>2</th>\n",
              "      <td>1000488999</td>\n",
              "      <td>0</td>\n",
              "    </tr>\n",
              "    <tr>\n",
              "      <th>3</th>\n",
              "      <td>1001028887</td>\n",
              "      <td>0</td>\n",
              "    </tr>\n",
              "    <tr>\n",
              "      <th>4</th>\n",
              "      <td>1001857862</td>\n",
              "      <td>0</td>\n",
              "    </tr>\n",
              "    <tr>\n",
              "      <th>...</th>\n",
              "      <td>...</td>\n",
              "      <td>...</td>\n",
              "    </tr>\n",
              "    <tr>\n",
              "      <th>4515</th>\n",
              "      <td>996704281</td>\n",
              "      <td>0</td>\n",
              "    </tr>\n",
              "    <tr>\n",
              "      <th>4516</th>\n",
              "      <td>997630809</td>\n",
              "      <td>0</td>\n",
              "    </tr>\n",
              "    <tr>\n",
              "      <th>4517</th>\n",
              "      <td>998072137</td>\n",
              "      <td>0</td>\n",
              "    </tr>\n",
              "    <tr>\n",
              "      <th>4518</th>\n",
              "      <td>998136924</td>\n",
              "      <td>0</td>\n",
              "    </tr>\n",
              "    <tr>\n",
              "      <th>4519</th>\n",
              "      <td>99975682</td>\n",
              "      <td>0</td>\n",
              "    </tr>\n",
              "  </tbody>\n",
              "</table>\n",
              "<p>4520 rows × 2 columns</p>\n",
              "</div>"
            ],
            "text/plain": [
              "      segment_id  time_to_eruption\n",
              "0     1000213997                 0\n",
              "1      100023368                 0\n",
              "2     1000488999                 0\n",
              "3     1001028887                 0\n",
              "4     1001857862                 0\n",
              "...          ...               ...\n",
              "4515   996704281                 0\n",
              "4516   997630809                 0\n",
              "4517   998072137                 0\n",
              "4518   998136924                 0\n",
              "4519    99975682                 0\n",
              "\n",
              "[4520 rows x 2 columns]"
            ]
          },
          "metadata": {
            "tags": []
          },
          "execution_count": 111
        }
      ]
    },
    {
      "cell_type": "markdown",
      "metadata": {
        "id": "tlU5gfEG1f37"
      },
      "source": [
        "Look on single segment\n"
      ]
    },
    {
      "cell_type": "code",
      "metadata": {
        "id": "8lQQZwMT1lsV"
      },
      "source": [
        "segment = pd.read_csv(single_segment,dtype =\"int16\")\n",
        "segment.describe()"
      ],
      "execution_count": null,
      "outputs": []
    },
    {
      "cell_type": "code",
      "metadata": {
        "id": "qU6IdgrH4WoO"
      },
      "source": [
        "segment.fillna(0).plot(subplots=True, figsize=(25, 10))\n",
        "plt.tight_layout()\n",
        "plt.show()"
      ],
      "execution_count": null,
      "outputs": []
    },
    {
      "cell_type": "markdown",
      "metadata": {
        "id": "NkOJnvo4BrpQ"
      },
      "source": [
        "Merge data for train/test"
      ]
    },
    {
      "cell_type": "code",
      "metadata": {
        "colab": {
          "base_uri": "https://localhost:8080/",
          "height": 35
        },
        "id": "kbgbEbWgByJa",
        "outputId": "45ace2f2-263e-4a49-af10-74d72830ae7a"
      },
      "source": [
        "train_segmnets = glob.glob(os.path.join(train_data_path,\"1*.csv\"))\n",
        "#train_segmnets = glob.glob(os.path.join(test_data_path,\"1*.csv\"))\n",
        "\n",
        "train_segmnets[0]"
      ],
      "execution_count": 106,
      "outputs": [
        {
          "output_type": "execute_result",
          "data": {
            "application/vnd.google.colaboratory.intrinsic+json": {
              "type": "string"
            },
            "text/plain": [
              "'1000015382.csv'"
            ]
          },
          "metadata": {
            "tags": []
          },
          "execution_count": 106
        }
      ]
    },
    {
      "cell_type": "markdown",
      "metadata": {
        "id": "mCDB-MTgINmS"
      },
      "source": [
        "Concat segments"
      ]
    },
    {
      "cell_type": "code",
      "metadata": {
        "id": "-8dWjGfXIK5R"
      },
      "source": [
        "lst_of_segments_data = []\n",
        "lst_of_segments_number = []\n",
        "#read each segment and save inside li\n",
        "for filename in train_segmnets:\n",
        "    df = pd.read_csv(filename, index_col=None, header=0)\n",
        "    lst_of_segments_data.append(df)\n",
        "    lst_of_segments_number.append(int(filename[:-4]))\n",
        "lst_of_segments_data[1]\n"
      ],
      "execution_count": null,
      "outputs": []
    },
    {
      "cell_type": "code",
      "metadata": {
        "id": "POCO5QXoJDET"
      },
      "source": [
        "#frame = pd.concat(li, axis=0, ignore_index=True)\n",
        "#frame\n",
        "segNum_segData= dict(zip(lst_of_segments_number, lst_of_segments_data))\n",
        "segNum_segData"
      ],
      "execution_count": null,
      "outputs": []
    },
    {
      "cell_type": "code",
      "metadata": {
        "id": "QyM9XdmxXktI"
      },
      "source": [
        "from sklearn.model_selection import train_test_split\n",
        "from sklearn.metrics import mean_squared_error as mse\n",
        "import lightgbm as lgb\n"
      ],
      "execution_count": null,
      "outputs": []
    },
    {
      "cell_type": "markdown",
      "metadata": {
        "id": "0wHmMPbwUNia"
      },
      "source": [
        "Linear regression"
      ]
    },
    {
      "cell_type": "code",
      "metadata": {
        "id": "6b9XmQWbULo6"
      },
      "source": [
        "def LinearRegression"
      ],
      "execution_count": null,
      "outputs": []
    }
  ]
}